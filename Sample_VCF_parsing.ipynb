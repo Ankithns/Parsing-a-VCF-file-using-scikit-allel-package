with open('sample.vcf', mode='r') as vcf:
    print(vcf.read()) # read the vcf file

# import scikit-allel
import allel
print(allel.__version__) #print the version

#collecting the variant call elements using callset collection. 
callset = allel.read_vcf('sample.vcf') 
callset 

#import regex package to split the file using spaces, colons and commas
import re

item = callset['variants/CHROM'][4]

### split the item with row number referring to  gene ID - NCBI gene database or filter column with pass variable. 

tokens = re.split('\s+', item) #splits based on white space 

# token number 8 and 9 are required to calculate ad/dp
names = tokens[8].split(':') #format column
tumor_vals = tokens[10].split(':') #tumor column
normal_vals = tokens[9].split(':') #normal column

for i in range(0, len(names)):
    if names[i] == "AD":
        ad_t = tumor_vals[i]
        ad_n = normal_vals[i]
    elif names[i] == "DP":
        dp_t = tumor_vals[i]
        dp_n = normal_vals[i]

#Split based on commas for normal and tumor columns
adt_values = ad_t.split(",")
adn_values = ad_n.split(",")

#store the values in a dictionary. 
dict = {}
dict["CHROM"] = int(tokens[0])
dict["POS"] = int(tokens[1])
dict["ID"] = tokens[2]
dict["REF"] = tokens[3]
dict["ALT"] = tokens[4]
dict["Variant Allele Frequency"] = int(adt_values[1])/int(dp_t) #vaf calculation
dict["Tumor Total Read Count"] = int(dp_t)
dict["Tumor Alt Allele Read Count"] = int(adt_values[1])
dict["Normal Total Read Count"] = int(dp_n)
dict["Normal Allele Read Count"] = int(adn_values[0])
print(dict)

# Output: {'CHROM': 2, 'POS': 209113112, 'ID': 'rs121913500', 'REF': 'C', 'ALT': 'T', 'Variant Allele Frequency': 0.43956043956043955, 'Tumor Total Read Count': 91, 'Tumor Alt Allele Read Count': 40, 'Normal Total Read Count': 58, 'Normal Allele Read Count': 58}

