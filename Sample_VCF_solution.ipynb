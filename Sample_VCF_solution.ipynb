{
 "cells": [
  {
   "cell_type": "code",
   "execution_count": 1,
   "metadata": {},
   "outputs": [
    {
     "name": "stdout",
     "output_type": "stream",
     "text": [
      "##fileformat=VCFv4.1\n",
      "##FILTER=<ID=PASS,Description=\"Accept as a confident somatic mutation\">\n",
      "##FILTER=<ID=REJECT,Description=\"Rejected as a confident somatic mutation\">\n",
      "##FORMAT=<ID=AD,Number=.,Type=Integer,Description=\"Allelic depths for the ref and alt alleles in the order listed\">\n",
      "##FORMAT=<ID=BQ,Number=A,Type=Float,Description=\"Average base quality for reads supporting alleles\">\n",
      "##FORMAT=<ID=DP,Number=1,Type=Integer,Description=\"Approximate read depth (reads with MQ=255 or with bad mates are filtered)\">\n",
      "##FORMAT=<ID=FA,Number=A,Type=Float,Description=\"Allele fraction of the alternate allele with regard to reference\">\n",
      "##FORMAT=<ID=GQ,Number=1,Type=Integer,Description=\"Genotype Quality\">\n",
      "##FORMAT=<ID=GT,Number=1,Type=String,Description=\"Genotype\">\n",
      "##FORMAT=<ID=PL,Number=G,Type=Integer,Description=\"Normalized, Phred-scaled likelihoods for genotypes as defined in the VCF specification\">\n",
      "##FORMAT=<ID=SS,Number=1,Type=Integer,Description=\"Variant status relative to non-adjacent Normal,0=wildtype,1=germline,2=somatic,3=LOH,4=post-transcriptional modification,5=unknown\">\n",
      "##INFO=<ID=DB,Number=0,Type=Flag,Description=\"dbSNP Membership\">\n",
      "##INFO=<ID=MQ0,Number=1,Type=Integer,Description=\"Total Mapping Quality Zero Reads\">\n",
      "##INFO=<ID=SOMATIC,Number=0,Type=Flag,Description=\"Somatic event\">\n",
      "##INFO=<ID=VT,Number=1,Type=String,Description=\"Variant type, can be SNP, INS or DEL\">\n",
      "##reference=file:///data/NYGC/Resources/Indexes/bwa/human_g1k_v37.fasta\n",
      "#CHROM\tPOS\tID\tREF\tALT\tQUAL\tFILTER\tINFO\tFORMAT\tNORMAL\tTUMOR\n",
      "1       209111756       rs5004977       T       A       .       REJECT  DB      GT:AD:BQ:DP:FA  0:1,48:.:49:0.980       0/1:0,3:21:3:1.00\n",
      "1       209111757       rs5004978       C       A       .       REJECT  DB      GT:AD:BQ:DP:FA  0:0,48:.:48:1.00        0/1:0,3:24:3:1.00\n",
      "1       209111761       rs5004980       T       C       .       REJECT  DB      GT:AD:BQ:DP:FA  0:0,48:.:48:1.00        0/1:0,1:10:1:1.00\n",
      "2       20911144        .       C       A       .       REJECT  .       GT:AD:BQ:DP:FA  0:37,7:.:44:0.159       0/1:60,7:18:67:0.104\n",
      "2       209113112       rs121913500     C       T       .       PASS    DB;SOMATIC;VT=SNP       GT:AD:BQ:DP:FA:SS       0:58,0:.:58:0.00:0      0/1:51,40:29:91:0.440:2\n",
      "2       209111288       .       G       A       .       PASS    SOMATIC;VT=SNP  GT:AD:BQ:DP:FA:SS       0:39,0:.:39:0.00:0      0/1:41,24:29:66:0.369:2\n",
      "2       209111377       .       G       A       .       REJECT  .       GT:AD:BQ:DP:FA  0:51,2:.:53:0.038       0/1:54,2:26:56:0.036\n",
      "3       20911171        rs9830439       T       C       .       REJECT  DB      GT:AD:BQ:DP:FA  0:0,53:.:55:1.00        0/1:0,90:26:90:1.00\n",
      "3       104209111       .       T       G       .       REJECT  .       GT:AD:BQ:DP:FA  0:22,28:.:50:0.560      0/1:44,50:28:94:0.532\n",
      "3       122091111       .       T       A       .       REJECT  .       GT:AD:BQ:DP:FA  0:47,4:.:52:0.078       0/1:42,3:13:45:0.067\n",
      "3       122091113       .       T       A       .       REJECT  .       GT:AD:BQ:DP:FA  0:48,3:.:52:0.059       0/1:37,7:13:44:0.159\n",
      "5       130209111       .       A       G       .       REJECT  .       GT:AD:BQ:DP:FA  0:58,8:.:60:0.121       0/1:88,1:12:90:0.011\n",
      "5\t153456382\trs1478349\tT\tC\t.\tREJECT\tDB\tGT:AD:BQ:DP:FA\t0:0,61:.:61:1.00\t0/1:0,85:29:85:1.00\n",
      "6\t91209111\trs182259\tC\tT\t.\tREJECT\tDB\tGT:AD:BQ:DP:FA\t0:24,31:.:57:0.564\t0/1:52,50:28:103:0.490\n",
      "7\t22810166\trs2091115\tG\tT\t.\tREJECT\tDB\tGT:AD:BQ:DP:FA\t0:30,24:.:54:0.444\t0/1:52,39:29:92:0.429\n",
      "7\t38183023\trs2091110\tA\tG\t.\tREJECT\tDB\tGT:AD:BQ:DP:FA\t0:25,24:.:49:0.490\t0/1:39,54:28:93:0.581\n",
      "7\t97209111\trs12533591\tG\tA\t.\tREJECT\tDB\tGT:AD:BQ:DP:FA\t0:16,16:.:27:0.500\t0/1:31,46:28:77:0.597\n",
      "10\t2091118\trs58434396\tA\tC\t.\tREJECT\tDB\tGT:AD:BQ:DP:FA\t0:36,15:.:51:0.294\t0/1:58,6:25:64:0.094\n",
      "10      89709834        .       C       T       .       PASS    SOMATIC;VT=SNP  GT:AD:BQ:DP:FA:SS       0:46,0:.:45:0.00:0      0/1:54,19:30:73:0.260:2\n",
      "10\t120911199\trs7081689\tG\tT\t.\tREJECT\tDB\tGT:AD:BQ:DP:FA\t0:15,20:.:35:0.571\t0/1:37,33:29:70:0.471\n",
      "12\t209111\t.\tG\tC\t.\tREJECT\t.\tGT:AD:BQ:DP:FA\t0:39,10:.:50:0.204\t0/1:52,2:18:55:0.037\n",
      "12\t2365131\trs74209111\tT\tC\t.\tREJECT\tDB\tGT:AD:BQ:DP:FA\t0:590,75:.:629:0.113\t0/1:239,15:23:255:0.059\n",
      "12\t20911127\trs10770720\tG\tC\t.\tREJECT\tDB\tGT:AD:BQ:DP:FA\t0:32,26:.:58:0.448\t0/1:42,46:25:88:0.523\n",
      "13\t65209111\trs71442635\tC\tT\t.\tREJECT\tDB\tGT:AD:BQ:DP:FA\t0:26,36:.:62:0.581\t0/1:5,37:29:42:0.881\n",
      "17\t69959015\trs7209111\tT\tC\t.\tREJECT\tDB\tGT:AD:BQ:DP:FA\t0:21,27:.:48:0.563\t0/1:46,38:28:84:0.452\n",
      "\n"
     ]
    }
   ],
   "source": [
    "with open('sample.vcf', mode='r') as vcf:\n",
    "    print(vcf.read())"
   ]
  },
  {
   "cell_type": "code",
   "execution_count": 4,
   "metadata": {},
   "outputs": [
    {
     "name": "stdout",
     "output_type": "stream",
     "text": [
      "1.3.2\n"
     ]
    }
   ],
   "source": [
    "# import scikit-allel\n",
    "import allel\n",
    "# check which version is installed\n",
    "print(allel.__version__)"
   ]
  },
  {
   "cell_type": "code",
   "execution_count": 5,
   "metadata": {},
   "outputs": [],
   "source": [
    "callset = allel.read_vcf('sample.vcf')"
   ]
  },
  {
   "cell_type": "code",
   "execution_count": 6,
   "metadata": {},
   "outputs": [
    {
     "data": {
      "text/plain": [
       "{'samples': array(['NORMAL', 'TUMOR'], dtype=object),\n",
       " 'calldata/GT': array([[[-1, -1],\n",
       "         [-1, -1]],\n",
       " \n",
       "        [[-1, -1],\n",
       "         [-1, -1]],\n",
       " \n",
       "        [[-1, -1],\n",
       "         [-1, -1]],\n",
       " \n",
       "        [[-1, -1],\n",
       "         [-1, -1]],\n",
       " \n",
       "        [[-1, -1],\n",
       "         [-1, -1]],\n",
       " \n",
       "        [[-1, -1],\n",
       "         [-1, -1]],\n",
       " \n",
       "        [[-1, -1],\n",
       "         [-1, -1]],\n",
       " \n",
       "        [[-1, -1],\n",
       "         [-1, -1]],\n",
       " \n",
       "        [[-1, -1],\n",
       "         [-1, -1]],\n",
       " \n",
       "        [[-1, -1],\n",
       "         [-1, -1]],\n",
       " \n",
       "        [[-1, -1],\n",
       "         [-1, -1]],\n",
       " \n",
       "        [[-1, -1],\n",
       "         [-1, -1]],\n",
       " \n",
       "        [[ 0, -1],\n",
       "         [ 0,  1]],\n",
       " \n",
       "        [[ 0, -1],\n",
       "         [ 0,  1]],\n",
       " \n",
       "        [[ 0, -1],\n",
       "         [ 0,  1]],\n",
       " \n",
       "        [[ 0, -1],\n",
       "         [ 0,  1]],\n",
       " \n",
       "        [[ 0, -1],\n",
       "         [ 0,  1]],\n",
       " \n",
       "        [[ 0, -1],\n",
       "         [ 0,  1]],\n",
       " \n",
       "        [[-1, -1],\n",
       "         [-1, -1]],\n",
       " \n",
       "        [[ 0, -1],\n",
       "         [ 0,  1]],\n",
       " \n",
       "        [[ 0, -1],\n",
       "         [ 0,  1]],\n",
       " \n",
       "        [[ 0, -1],\n",
       "         [ 0,  1]],\n",
       " \n",
       "        [[ 0, -1],\n",
       "         [ 0,  1]],\n",
       " \n",
       "        [[ 0, -1],\n",
       "         [ 0,  1]],\n",
       " \n",
       "        [[ 0, -1],\n",
       "         [ 0,  1]]], dtype=int8),\n",
       " 'variants/ALT': array([['', '', ''],\n",
       "        ['', '', ''],\n",
       "        ['', '', ''],\n",
       "        ['', '', ''],\n",
       "        ['', '', ''],\n",
       "        ['', '', ''],\n",
       "        ['', '', ''],\n",
       "        ['', '', ''],\n",
       "        ['', '', ''],\n",
       "        ['', '', ''],\n",
       "        ['', '', ''],\n",
       "        ['', '', ''],\n",
       "        ['C', '', ''],\n",
       "        ['T', '', ''],\n",
       "        ['T', '', ''],\n",
       "        ['G', '', ''],\n",
       "        ['A', '', ''],\n",
       "        ['C', '', ''],\n",
       "        ['', '', ''],\n",
       "        ['T', '', ''],\n",
       "        ['C', '', ''],\n",
       "        ['C', '', ''],\n",
       "        ['C', '', ''],\n",
       "        ['T', '', ''],\n",
       "        ['C', '', '']], dtype=object),\n",
       " 'variants/CHROM': array(['1       209111756       rs5004977       T       A       .       REJECT  DB      GT:AD:BQ:DP:FA  0:1,48:.:49:0.980       0/1:0,3:21:3:1.00',\n",
       "        '1       209111757       rs5004978       C       A       .       REJECT  DB      GT:AD:BQ:DP:FA  0:0,48:.:48:1.00        0/1:0,3:24:3:1.00',\n",
       "        '1       209111761       rs5004980       T       C       .       REJECT  DB      GT:AD:BQ:DP:FA  0:0,48:.:48:1.00        0/1:0,1:10:1:1.00',\n",
       "        '2       20911144        .       C       A       .       REJECT  .       GT:AD:BQ:DP:FA  0:37,7:.:44:0.159       0/1:60,7:18:67:0.104',\n",
       "        '2       209113112       rs121913500     C       T       .       PASS    DB;SOMATIC;VT=SNP       GT:AD:BQ:DP:FA:SS       0:58,0:.:58:0.00:0      0/1:51,40:29:91:0.440:2',\n",
       "        '2       209111288       .       G       A       .       PASS    SOMATIC;VT=SNP  GT:AD:BQ:DP:FA:SS       0:39,0:.:39:0.00:0      0/1:41,24:29:66:0.369:2',\n",
       "        '2       209111377       .       G       A       .       REJECT  .       GT:AD:BQ:DP:FA  0:51,2:.:53:0.038       0/1:54,2:26:56:0.036',\n",
       "        '3       20911171        rs9830439       T       C       .       REJECT  DB      GT:AD:BQ:DP:FA  0:0,53:.:55:1.00        0/1:0,90:26:90:1.00',\n",
       "        '3       104209111       .       T       G       .       REJECT  .       GT:AD:BQ:DP:FA  0:22,28:.:50:0.560      0/1:44,50:28:94:0.532',\n",
       "        '3       122091111       .       T       A       .       REJECT  .       GT:AD:BQ:DP:FA  0:47,4:.:52:0.078       0/1:42,3:13:45:0.067',\n",
       "        '3       122091113       .       T       A       .       REJECT  .       GT:AD:BQ:DP:FA  0:48,3:.:52:0.059       0/1:37,7:13:44:0.159',\n",
       "        '5       130209111       .       A       G       .       REJECT  .       GT:AD:BQ:DP:FA  0:58,8:.:60:0.121       0/1:88,1:12:90:0.011',\n",
       "        '5', '6', '7', '7', '7', '10',\n",
       "        '10      89709834        .       C       T       .       PASS    SOMATIC;VT=SNP  GT:AD:BQ:DP:FA:SS       0:46,0:.:45:0.00:0      0/1:54,19:30:73:0.260:2',\n",
       "        '10', '12', '12', '12', '13', '17'], dtype=object),\n",
       " 'variants/FILTER_PASS': array([False, False, False, False, False, False, False, False, False,\n",
       "        False, False, False, False, False, False, False, False, False,\n",
       "        False, False, False, False, False, False, False]),\n",
       " 'variants/ID': array(['', '', '', '', '', '', '', '', '', '', '', '', 'rs1478349',\n",
       "        'rs182259', 'rs2091115', 'rs2091110', 'rs12533591', 'rs58434396',\n",
       "        '', 'rs7081689', '.', 'rs74209111', 'rs10770720', 'rs71442635',\n",
       "        'rs7209111'], dtype=object),\n",
       " 'variants/POS': array([        0,         0,         0,         0,         0,         0,\n",
       "                0,         0,         0,         0,         0,         0,\n",
       "        153456382,  91209111,  22810166,  38183023,  97209111,   2091118,\n",
       "                0, 120911199,    209111,   2365131,  20911127,  65209111,\n",
       "         69959015]),\n",
       " 'variants/QUAL': array([nan, nan, nan, nan, nan, nan, nan, nan, nan, nan, nan, nan, nan,\n",
       "        nan, nan, nan, nan, nan, nan, nan, nan, nan, nan, nan, nan],\n",
       "       dtype=float32),\n",
       " 'variants/REF': array(['', '', '', '', '', '', '', '', '', '', '', '', 'T', 'C', 'G', 'A',\n",
       "        'G', 'A', '', 'G', 'G', 'T', 'G', 'C', 'T'], dtype=object)}"
      ]
     },
     "execution_count": 6,
     "metadata": {},
     "output_type": "execute_result"
    }
   ],
   "source": [
    "callset"
   ]
  },
  {
   "cell_type": "code",
   "execution_count": 7,
   "metadata": {},
   "outputs": [],
   "source": [
    "import re\n",
    "\n",
    "item = callset['variants/CHROM'][4]\n",
    "### split the item with row number gene ID _ referred to NCBI gene database\n",
    "tokens = re.split('\\s+', item) #splits based on white space \n",
    "\n",
    "# token number 8 and 9 are required to calculate ad/dp\n",
    "names = tokens[8].split(':') #format column\n",
    "tumor_vals = tokens[10].split(':') #tumor column\n",
    "normal_vals = tokens[9].split(':') #normal column\n",
    "\n",
    "for i in range(0, len(names)):\n",
    "    if names[i] == \"AD\":\n",
    "        ad_t = tumor_vals[i]\n",
    "        ad_n = normal_vals[i]\n",
    "    elif names[i] == \"DP\":\n",
    "        dp_t = tumor_vals[i]\n",
    "        dp_n = normal_vals[i]\n",
    " \n",
    "adt_values = ad_t.split(\",\")\n",
    "adn_values = ad_n.split(\",\")"
   ]
  },
  {
   "cell_type": "code",
   "execution_count": 8,
   "metadata": {},
   "outputs": [
    {
     "name": "stdout",
     "output_type": "stream",
     "text": [
      "{'CHROM': 2, 'POS': 209113112, 'ID': 'rs121913500', 'REF': 'C', 'ALT': 'T', 'Variant Allele Frequency': 0.43956043956043955, 'Tumor Total Read Count': 91, 'Tumor Alt Allele Read Count': 40, 'Normal Total Read Count': 58, 'Normal Allele Read Count': 58}\n"
     ]
    }
   ],
   "source": [
    "dict = {}\n",
    "dict[\"CHROM\"] = int(tokens[0])\n",
    "dict[\"POS\"] = int(tokens[1])\n",
    "dict[\"ID\"] = tokens[2]\n",
    "dict[\"REF\"] = tokens[3]\n",
    "dict[\"ALT\"] = tokens[4]\n",
    "dict[\"Variant Allele Frequency\"] = int(adt_values[1])/int(dp_t) #vaf calculation\n",
    "dict[\"Tumor Total Read Count\"] = int(dp_t)\n",
    "dict[\"Tumor Alt Allele Read Count\"] = int(adt_values[1])\n",
    "dict[\"Normal Total Read Count\"] = int(dp_n)\n",
    "dict[\"Normal Allele Read Count\"] = int(adn_values[0])\n",
    "print(dict)"
   ]
  },
  {
   "cell_type": "code",
   "execution_count": null,
   "metadata": {},
   "outputs": [],
   "source": []
  }
 ],
 "metadata": {
  "kernelspec": {
   "display_name": "Python 3",
   "language": "python",
   "name": "python3"
  },
  "language_info": {
   "codemirror_mode": {
    "name": "ipython",
    "version": 3
   },
   "file_extension": ".py",
   "mimetype": "text/x-python",
   "name": "python",
   "nbconvert_exporter": "python",
   "pygments_lexer": "ipython3",
   "version": "3.7.6"
  }
 },
 "nbformat": 4,
 "nbformat_minor": 4
}
